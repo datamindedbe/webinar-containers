{
 "cells": [
  {
   "cell_type": "code",
   "execution_count": 13,
   "metadata": {
    "collapsed": false,
    "jupyter": {
     "outputs_hidden": false
    },
    "pycharm": {
     "name": "#%%\n"
    }
   },
   "outputs": [],
   "source": [
    "import pandas as pd\n",
    "import awswrangler as wr\n",
    "import boto3\n",
    "from sklearn.ensemble import RandomForestClassifier"
   ]
  },
  {
   "cell_type": "markdown",
   "metadata": {},
   "source": [
    "#### Load Titanic training data set"
   ]
  },
  {
   "cell_type": "code",
   "execution_count": 14,
   "metadata": {
    "collapsed": false,
    "jupyter": {
     "outputs_hidden": false
    },
    "pycharm": {
     "name": "#%% Input Data\n"
    }
   },
   "outputs": [],
   "source": [
    "boto3.setup_default_session(aws_access_key_id=\"xxx\", aws_secret_access_key=\"xxx\", region_name=\"xxx\")\n",
    "df_train = wr.s3.read_csv(path='s3://dm-containers-webinar-data/part1/titanic/train.csv')"
   ]
  },
  {
   "cell_type": "markdown",
   "metadata": {},
   "source": [
    "#### Add Sex feature"
   ]
  },
  {
   "cell_type": "code",
   "execution_count": 15,
   "metadata": {
    "collapsed": false,
    "jupyter": {
     "outputs_hidden": false
    },
    "pycharm": {
     "name": "#%% Sexes\n"
    }
   },
   "outputs": [],
   "source": [
    "sexes = sorted(df_train['Sex'].unique())\n",
    "genders_mapping = dict(zip(sexes, range(0, len(sexes) + 1)))\n",
    "df_train['Sex_Val'] = df_train['Sex'].map(genders_mapping).astype(int)"
   ]
  },
  {
   "cell_type": "markdown",
   "metadata": {},
   "source": [
    "#### Add Age feature"
   ]
  },
  {
   "cell_type": "code",
   "execution_count": 16,
   "metadata": {
    "collapsed": false,
    "jupyter": {
     "outputs_hidden": false
    },
    "pycharm": {
     "name": "#%% Age\n"
    }
   },
   "outputs": [],
   "source": [
    "df_train['AgeFill'] = df_train['Age']\n",
    "df_train['AgeFill'] = df_train['AgeFill'].groupby([df_train['Sex_Val'], df_train['Class']]).apply(lambda x: x.fillna(x.median()))"
   ]
  },
  {
   "cell_type": "markdown",
   "metadata": {},
   "source": [
    "#### Add Family Size feature"
   ]
  },
  {
   "cell_type": "code",
   "execution_count": 17,
   "metadata": {
    "collapsed": false,
    "jupyter": {
     "outputs_hidden": false
    },
    "pycharm": {
     "name": "#%% Family size\n"
    }
   },
   "outputs": [],
   "source": [
    "df_train['FamilySize'] = df_train['Siblings'] + df_train['ParentsChildren']"
   ]
  },
  {
   "cell_type": "markdown",
   "metadata": {},
   "source": [
    "#### Get rid of unused columns for the clasifier"
   ]
  },
  {
   "cell_type": "code",
   "execution_count": 18,
   "metadata": {
    "collapsed": false,
    "jupyter": {
     "outputs_hidden": false
    },
    "pycharm": {
     "name": "#%% Keeping only features we want for the model\n"
    }
   },
   "outputs": [],
   "source": [
    "df_train = df_train.drop(['Name', 'Sex', 'Ticket', 'Cabin', 'Embarked', 'Age', 'Siblings', 'ParentsChildren', 'Fare'], axis=1)\n",
    "train_data = df_train.values[:,1:]"
   ]
  },
  {
   "cell_type": "markdown",
   "metadata": {
    "jupyter": {
     "outputs_hidden": false
    },
    "pycharm": {
     "name": "#%% Convert the DataFrame to a numpy array\n"
    }
   },
   "source": [
    "#### Create and train a classifier"
   ]
  },
  {
   "cell_type": "code",
   "execution_count": 19,
   "metadata": {
    "collapsed": false,
    "jupyter": {
     "outputs_hidden": false
    },
    "pycharm": {
     "name": "#%%\n"
    }
   },
   "outputs": [],
   "source": [
    "classifier = RandomForestClassifier(n_estimators=100)\n",
    "train_features = train_data[:, 1:]\n",
    "train_target = train_data[:, 0]\n",
    "classifier = classifier.fit(train_features, train_target)"
   ]
  },
  {
   "cell_type": "markdown",
   "metadata": {},
   "source": [
    "#### Load the test data set and apply the same data preparation"
   ]
  },
  {
   "cell_type": "code",
   "execution_count": 20,
   "metadata": {
    "collapsed": false,
    "jupyter": {
     "outputs_hidden": false
    },
    "pycharm": {
     "name": "#%%\n"
    }
   },
   "outputs": [],
   "source": [
    "df_test = wr.s3.read_csv(path='s3://dm-containers-webinar-data/part1/titanic/test.csv')\n",
    "df_test['Sex_Val'] = df_test['Sex'].map(genders_mapping).astype(int)\n",
    "df_test['AgeFill'] = df_test['Age']\n",
    "df_test['AgeFill'] = df_test['AgeFill'].groupby([df_test['Sex_Val'], df_test['Class']]).apply(lambda x: x.fillna(x.median()))\n",
    "df_test['FamilySize'] = df_test['Siblings'] + df_test['ParentsChildren']\n",
    "df_test = df_test.drop(['Name', 'Sex', 'Ticket', 'Cabin', 'Embarked', 'Age', 'Siblings', 'ParentsChildren', 'Fare'], axis=1)\n",
    "test_data = df_test.values[:,1:]"
   ]
  },
  {
   "cell_type": "markdown",
   "metadata": {},
   "source": [
    "#### Get classifier prediction for test data set and save the results"
   ]
  },
  {
   "cell_type": "code",
   "execution_count": 21,
   "metadata": {
    "collapsed": false,
    "jupyter": {
     "outputs_hidden": false
    },
    "pycharm": {
     "name": "#%%\n"
    }
   },
   "outputs": [],
   "source": [
    "test_x = test_data[:,1:]\n",
    "test_y = classifier.predict(test_data)\n",
    "df_test['Survived'] = test_y\n",
    "df_test[['PassengerId', 'Survived']].to_csv('data/results.csv', index=False)"
   ]
  },
  {
   "cell_type": "code",
   "execution_count": null,
   "metadata": {},
   "outputs": [],
   "source": []
  }
 ],
 "metadata": {
  "kernelspec": {
   "display_name": "Python 3 (ipykernel)",
   "language": "python",
   "name": "python3"
  },
  "language_info": {
   "codemirror_mode": {
    "name": "ipython",
    "version": 3
   },
   "file_extension": ".py",
   "mimetype": "text/x-python",
   "name": "python",
   "nbconvert_exporter": "python",
   "pygments_lexer": "ipython3",
   "version": "3.9.6"
  }
 },
 "nbformat": 4,
 "nbformat_minor": 4
}